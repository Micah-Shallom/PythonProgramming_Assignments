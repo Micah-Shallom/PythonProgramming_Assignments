{
 "cells": [
  {
   "cell_type": "code",
   "execution_count": 1,
   "id": "adf5b706-54da-489f-85e3-abc84ee8b8fd",
   "metadata": {},
   "outputs": [],
   "source": [
    "x = \"Shallom is a good boy\""
   ]
  },
  {
   "cell_type": "code",
   "execution_count": 2,
   "id": "6386a1f7-830f-4b62-b3f1-4e8ffc711fbd",
   "metadata": {},
   "outputs": [
    {
     "data": {
      "text/plain": [
       "'ShaQQom is a good boy'"
      ]
     },
     "execution_count": 2,
     "metadata": {},
     "output_type": "execute_result"
    }
   ],
   "source": [
    "x.replace(\"l\",\"Q\")"
   ]
  },
  {
   "cell_type": "code",
   "execution_count": 3,
   "id": "7d4554d6-8ae2-4201-9dfa-19c95685d0a7",
   "metadata": {},
   "outputs": [
    {
     "name": "stdout",
     "output_type": "stream",
     "text": [
      "(1+2j)\n"
     ]
    }
   ],
   "source": [
    "x=complex(1,2)\n",
    "print(x)"
   ]
  },
  {
   "cell_type": "code",
   "execution_count": 4,
   "id": "c1b5fdf1-4f39-487e-91ae-47f67bc4bca1",
   "metadata": {},
   "outputs": [],
   "source": [
    "import math\n"
   ]
  },
  {
   "cell_type": "code",
   "execution_count": 5,
   "id": "e3e02a37-292a-4edf-840b-ba2b999c6d1a",
   "metadata": {},
   "outputs": [
    {
     "data": {
      "text/plain": [
       "0.9129452507276277"
      ]
     },
     "execution_count": 5,
     "metadata": {},
     "output_type": "execute_result"
    }
   ],
   "source": [
    "math.sin(20)"
   ]
  },
  {
   "cell_type": "code",
   "execution_count": 7,
   "id": "6e9ecdd1-e4a2-42c5-bfe7-20cef0e70ae2",
   "metadata": {},
   "outputs": [
    {
     "data": {
      "text/plain": [
       "3.141592653589793"
      ]
     },
     "execution_count": 7,
     "metadata": {},
     "output_type": "execute_result"
    }
   ],
   "source": [
    "math.pi"
   ]
  },
  {
   "cell_type": "code",
   "execution_count": 12,
   "id": "33a47b0e-b366-4ddd-9335-3888fb72baa5",
   "metadata": {},
   "outputs": [
    {
     "name": "stdout",
     "output_type": "stream",
     "text": [
      "Computer\n",
      "--------------\n",
      "Engineering\n"
     ]
    }
   ],
   "source": [
    "x = \"Shallom is a boy\"\n",
    "print(\"Computer\",\"Engineering\", sep=\"\\n--------------\\n\")"
   ]
  },
  {
   "cell_type": "code",
   "execution_count": 19,
   "id": "88fb3f88-58cb-4ede-b1d2-4b0400807d5b",
   "metadata": {},
   "outputs": [
    {
     "name": "stdout",
     "output_type": "stream",
     "text": [
      "This is shallom and he is 23 years old\n"
     ]
    }
   ],
   "source": [
    "x = \"shallom\"\n",
    "y = 23\n",
    "\n",
    "print(\"This is %s and he is %s years old\" %(x,y))"
   ]
  },
  {
   "cell_type": "code",
   "execution_count": 29,
   "id": "b8c33c19-1af6-49b5-a10a-e850c25b2201",
   "metadata": {},
   "outputs": [
    {
     "name": "stdout",
     "output_type": "stream",
     "text": [
      "|x         |\n",
      "3.46\n"
     ]
    }
   ],
   "source": [
    "print(\"|%-10s|\"%\"x\")\n",
    "print(\"%.2f\"%3.45632)"
   ]
  },
  {
   "cell_type": "code",
   "execution_count": 32,
   "id": "cbeb77d7-edaf-4d47-aca5-fb58f45066a1",
   "metadata": {},
   "outputs": [
    {
     "name": "stdout",
     "output_type": "stream",
     "text": [
      "Hello world Hello World\n"
     ]
    }
   ],
   "source": [
    "t = \"hello World\"\n",
    "\n",
    "print(t.capitalize(),t.title())"
   ]
  },
  {
   "cell_type": "code",
   "execution_count": 34,
   "id": "b16a5cbe-234f-4f9e-8231-cbac97bcb414",
   "metadata": {},
   "outputs": [
    {
     "name": "stdout",
     "output_type": "stream",
     "text": [
      "|         Hello World          |\n"
     ]
    }
   ],
   "source": [
    "print(\"|%s|\"%\"Hello World\".center(30))"
   ]
  },
  {
   "cell_type": "code",
   "execution_count": 39,
   "id": "db571d28-0aa6-413b-ac2b-4175dd1dc204",
   "metadata": {},
   "outputs": [
    {
     "name": "stdout",
     "output_type": "stream",
     "text": [
      "4\n"
     ]
    }
   ],
   "source": [
    "x = \"Alleviate the expenses of alluviation\"\n",
    "print(\"%s\"%x.count('l'))"
   ]
  },
  {
   "cell_type": "code",
   "execution_count": 40,
   "id": "43ecf245-e44b-4c5e-8d19-e1e6de6db491",
   "metadata": {},
   "outputs": [],
   "source": [
    "x = [1,2,3]\n",
    "\n",
    "x.insert(1,0)\n",
    "x.insert(-1,300)"
   ]
  },
  {
   "cell_type": "code",
   "execution_count": 41,
   "id": "723b3bd4-73c9-4aeb-a4fa-321489e51401",
   "metadata": {},
   "outputs": [
    {
     "data": {
      "text/plain": [
       "[1, 0, 2, 300, 3]"
      ]
     },
     "execution_count": 41,
     "metadata": {},
     "output_type": "execute_result"
    }
   ],
   "source": [
    "x"
   ]
  },
  {
   "cell_type": "code",
   "execution_count": 47,
   "id": "6778363a-7ba0-4b4a-8712-7492535c820f",
   "metadata": {},
   "outputs": [],
   "source": [
    "a = ['10000000', '123', '333']"
   ]
  },
  {
   "cell_type": "code",
   "execution_count": 49,
   "id": "1345488e-92a5-4de2-abdb-b81d0992d757",
   "metadata": {},
   "outputs": [
    {
     "data": {
      "text/plain": [
       "'10000000'"
      ]
     },
     "execution_count": 49,
     "metadata": {},
     "output_type": "execute_result"
    }
   ],
   "source": [
    "max(a, key=len)"
   ]
  },
  {
   "cell_type": "code",
   "execution_count": 52,
   "id": "e4e0e0e4-fbc6-4cb0-994b-8cf9bd7bd2c8",
   "metadata": {},
   "outputs": [
    {
     "data": {
      "text/plain": [
       "['My', 'name', 'is', 'Shallom']"
      ]
     },
     "execution_count": 52,
     "metadata": {},
     "output_type": "execute_result"
    }
   ],
   "source": [
    "\"My name is Shallom\".split()"
   ]
  },
  {
   "cell_type": "code",
   "execution_count": 53,
   "id": "72a173ad-d3b5-48c2-b16a-933b2192a09d",
   "metadata": {},
   "outputs": [],
   "source": [
    "a.append([23,24,25])\n",
    "a.extend([26,27,28])"
   ]
  },
  {
   "cell_type": "code",
   "execution_count": 54,
   "id": "9f57d42c-7f2f-4561-a4ad-bacd4f587691",
   "metadata": {},
   "outputs": [
    {
     "data": {
      "text/plain": [
       "['10000000', '123', '333', [23, 24, 25], 26, 27, 28]"
      ]
     },
     "execution_count": 54,
     "metadata": {},
     "output_type": "execute_result"
    }
   ],
   "source": [
    "a"
   ]
  },
  {
   "cell_type": "code",
   "execution_count": 57,
   "id": "0245a118-a96c-45cc-9e33-3f654fddd204",
   "metadata": {},
   "outputs": [
    {
     "name": "stdout",
     "output_type": "stream",
     "text": [
      "['10000000', '123', '333', '[23, 24, 25]', '26', '27', '28']\n"
     ]
    }
   ],
   "source": [
    "for idx,each in enumerate(a):\n",
    "    a[idx] = str(each)\n"
   ]
  },
  {
   "cell_type": "code",
   "execution_count": 59,
   "id": "bfd07291-2b1e-42e9-a97c-f57c8783a45d",
   "metadata": {},
   "outputs": [
    {
     "data": {
      "text/plain": [
       "'[23, 24, 25]'"
      ]
     },
     "execution_count": 59,
     "metadata": {},
     "output_type": "execute_result"
    }
   ],
   "source": [
    "a.pop(3)"
   ]
  },
  {
   "cell_type": "code",
   "execution_count": 60,
   "id": "34db7620-08cc-433b-8964-88ac3d841fcd",
   "metadata": {},
   "outputs": [
    {
     "data": {
      "text/plain": [
       "['10000000', '123', '333', '26', '27', '28']"
      ]
     },
     "execution_count": 60,
     "metadata": {},
     "output_type": "execute_result"
    }
   ],
   "source": [
    "a"
   ]
  },
  {
   "cell_type": "code",
   "execution_count": 61,
   "id": "78723450-459d-429e-aabe-0fecfb434f0f",
   "metadata": {},
   "outputs": [],
   "source": [
    "a.remove('123')"
   ]
  },
  {
   "cell_type": "code",
   "execution_count": 62,
   "id": "ed644060-e8d9-423c-bcbd-44a9d2fbf0e4",
   "metadata": {},
   "outputs": [
    {
     "data": {
      "text/plain": [
       "['10000000', '333', '26', '27', '28']"
      ]
     },
     "execution_count": 62,
     "metadata": {},
     "output_type": "execute_result"
    }
   ],
   "source": [
    "a"
   ]
  },
  {
   "cell_type": "code",
   "execution_count": 69,
   "id": "0d233300-877e-4ee2-9e93-bd55149d4a4f",
   "metadata": {},
   "outputs": [
    {
     "data": {
      "text/plain": [
       "[9, 9, 8, 8, 7, 7, 7, 7, 7, 6, 5, 5, 5, 5, 4, 3, 3, 3, 3, 3, 2, 2, 1, 0]"
      ]
     },
     "execution_count": 69,
     "metadata": {},
     "output_type": "execute_result"
    }
   ],
   "source": [
    "a = [1,5,7,9,3,5,7,3,2,3,5,8,9,3,7,0,7,5,4,2,3,6,7,8]\n",
    "a = sorted(a, reverse=True)\n",
    "a"
   ]
  },
  {
   "cell_type": "code",
   "execution_count": 78,
   "id": "c8c32341-8e52-4383-9451-a83a45338483",
   "metadata": {},
   "outputs": [
    {
     "name": "stdout",
     "output_type": "stream",
     "text": [
      "['y', 'n', 'a', 'm', 'e', 'i', 's', 'i', 'c', 'a', 'h', 'h', 'a', 'l', 'l', 'o', 'm', 'a', 'n', 'd', 'a', 'm', 'a', 'o', 'm', 'p', 'u', 't', 'e', 'r', 'n', 'g', 'i', 'n', 'e', 'e', 'r', 'i', 'n', 'g', 's', 't', 'u', 'd', 'e', 'n', 't']\n",
      "My--name--is--Micah--Shallom--and--I--am--a--Computer--Engineering--student\n"
     ]
    }
   ],
   "source": [
    "text='My name is Micah Shallom and I am a Computer Engineering student '\n",
    "print([each for each in text if each.islower()])\n",
    "textList =text.split()\n",
    "print(\"--\".join(textList))"
   ]
  },
  {
   "cell_type": "code",
   "execution_count": 85,
   "id": "e3278e8a-6cf8-4fc4-ab65-7cf012bac4c0",
   "metadata": {},
   "outputs": [
    {
     "data": {
      "text/plain": [
       "{'One': 1, 'Two': 2, 'Three': 3, 'Four': 4, 'Five': 5}"
      ]
     },
     "execution_count": 85,
     "metadata": {},
     "output_type": "execute_result"
    }
   ],
   "source": [
    "names = ['One', 'Two', 'Three', 'Four', 'Five']\n",
    "numbers = [1, 2, 3, 4, 5]\n",
    "\n",
    "dict(zip(names,numbers))"
   ]
  },
  {
   "cell_type": "code",
   "execution_count": 94,
   "id": "6797269d-c330-4b96-958c-41e4f7e641c7",
   "metadata": {},
   "outputs": [
    {
     "data": {
      "text/plain": [
       "{'One': 3, 'Two': 3, 'Three': 5, 'Four': 4, 'Five': 4}"
      ]
     },
     "execution_count": 94,
     "metadata": {},
     "output_type": "execute_result"
    }
   ],
   "source": [
    "a = {each:len(each) for each in names}\n",
    "a"
   ]
  },
  {
   "cell_type": "code",
   "execution_count": 93,
   "id": "167bad43-aac0-4384-be5f-1d27f53262c9",
   "metadata": {},
   "outputs": [
    {
     "data": {
      "text/plain": [
       "[3, 3, 5, 4, 4]"
      ]
     },
     "execution_count": 93,
     "metadata": {},
     "output_type": "execute_result"
    }
   ],
   "source": [
    "list(a.values())"
   ]
  },
  {
   "cell_type": "code",
   "execution_count": 99,
   "id": "2243404d-612a-4a58-8943-4ebe4b2e3652",
   "metadata": {},
   "outputs": [
    {
     "name": "stdout",
     "output_type": "stream",
     "text": [
      "One=3,Two=3,Three=5,Four=4,Five=4\n"
     ]
    }
   ],
   "source": [
    "print(\",\".join(\"%s=%d\" %(key,val) for key,val in a.items()))"
   ]
  },
  {
   "cell_type": "code",
   "execution_count": null,
   "id": "46d9cbe3-3487-459c-8ea0-52e396804f9e",
   "metadata": {},
   "outputs": [],
   "source": []
  }
 ],
 "metadata": {
  "kernelspec": {
   "display_name": "Python 3 (ipykernel)",
   "language": "python",
   "name": "python3"
  },
  "language_info": {
   "codemirror_mode": {
    "name": "ipython",
    "version": 3
   },
   "file_extension": ".py",
   "mimetype": "text/x-python",
   "name": "python",
   "nbconvert_exporter": "python",
   "pygments_lexer": "ipython3",
   "version": "3.10.9"
  }
 },
 "nbformat": 4,
 "nbformat_minor": 5
}
